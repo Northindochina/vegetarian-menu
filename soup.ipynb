{
 "cells": [
  {
   "cell_type": "code",
   "execution_count": 1,
   "metadata": {},
   "outputs": [],
   "source": [
    "import pandas as pd\n",
    "from bs4 import BeautifulSoup\n",
    "import requests"
   ]
  },
  {
   "cell_type": "code",
   "execution_count": 13,
   "metadata": {},
   "outputs": [
    {
     "data": {
      "text/plain": [
       "'Restaurant Au 41 Penthièvre, Paris 8ème | bestrestaurantsparis.com'"
      ]
     },
     "execution_count": 13,
     "metadata": {},
     "output_type": "execute_result"
    }
   ],
   "source": [
    "url = 'https://bestrestaurantsparis.com/fr/restaurant-paris/41-penthievre-restaurant-paris.html'\n",
    "response = requests.get(url)\n",
    "soup = BeautifulSoup(response.text, 'html.parser')\n",
    "soup.title.string"
   ]
  },
  {
   "cell_type": "code",
   "execution_count": null,
   "metadata": {},
   "outputs": [],
   "source": []
  },
  {
   "cell_type": "code",
   "execution_count": 27,
   "metadata": {},
   "outputs": [
    {
     "data": {
      "text/plain": [
       "[<div class=\"restaurant-menu-item\">\n",
       " <div class=\"restaurant-menu-price\"><span> 16,00 €</span></div>\n",
       " <div class=\"restaurant-menu-desc\">Velouté de potiron du Domaine des Bagots en Sologne éclats de châtaignes, et dès de foie gras</div>\n",
       " </div>,\n",
       " <div class=\"restaurant-menu-item\">\n",
       " <div class=\"restaurant-menu-price\"><span> 18,00 €</span></div>\n",
       " <div class=\"restaurant-menu-desc\">Oeuf de poule cuit mollet roulé à la mie de pain girolles de Corrèze en persillade légère</div>\n",
       " </div>,\n",
       " <div class=\"restaurant-menu-item\">\n",
       " <div class=\"restaurant-menu-price\"><span> 19,00 €</span></div>\n",
       " <div class=\"restaurant-menu-desc\">Darphin de pomme de terre, saumon fumé \"Label Rouge\" fleurette aux perles d'Avruga</div>\n",
       " </div>,\n",
       " <div class=\"restaurant-menu-item\">\n",
       " <div class=\"restaurant-menu-price\"><span> 25,00 €</span></div>\n",
       " <div class=\"restaurant-menu-desc\">Gelée de tourteaux à l'infusion d'herbes bavaroise de crustacés au fenouil et caviar de harengs</div>\n",
       " </div>,\n",
       " <div class=\"restaurant-menu-item\">\n",
       " <div class=\"restaurant-menu-price\"><span> 19,00 €</span></div>\n",
       " <div class=\"restaurant-menu-desc\">Escalope de foie gras de canard poêlé du Sud-Ouest jus court aux mûres et groseilles</div>\n",
       " </div>,\n",
       " <div class=\"restaurant-menu-item\">\n",
       " <div class=\"restaurant-menu-price\"><span> 39,00 €</span></div>\n",
       " <div class=\"restaurant-menu-desc\">Ravioles de langoustines Bretonnes bisque à l'Armoricaine et estragon</div>\n",
       " </div>,\n",
       " <div class=\"restaurant-menu-item\">\n",
       " <div class=\"restaurant-menu-price\"><span> 41,00 €</span></div>\n",
       " <div class=\"restaurant-menu-desc\">Suprême de bar en croûte d'amandes ravigote aux câpres et citron, tétragones en salade</div>\n",
       " </div>,\n",
       " <div class=\"restaurant-menu-item\">\n",
       " <div class=\"restaurant-menu-price\"><span> 37,00 €</span></div>\n",
       " <div class=\"restaurant-menu-desc\">Magret de canard du Sud-Ouest caramélisé aux dragées coings rôtis au miel d'acacia</div>\n",
       " </div>,\n",
       " <div class=\"restaurant-menu-item\">\n",
       " <div class=\"restaurant-menu-price\"><span> 49,00 €</span></div>\n",
       " <div class=\"restaurant-menu-desc\">Filet de boeuf de Salers cuit au poêlon, sauce Béarnaise, jeunes légumes du moment à l'huile d'olive</div>\n",
       " </div>,\n",
       " <div class=\"restaurant-menu-item\">\n",
       " <div class=\"restaurant-menu-price\"><span> 46,00 €</span></div>\n",
       " <div class=\"restaurant-menu-desc\">Noix de ris de veau laqué au vin rouge, pois gourmands et oignons nouveaux aux baies roses</div>\n",
       " </div>,\n",
       " <div class=\"restaurant-menu-item\">\n",
       " <div class=\"restaurant-menu-price\"><span> 13,00 €</span></div>\n",
       " <div class=\"restaurant-menu-desc\">Croustillant au chocolat Guanaja, quenelle glacée</div>\n",
       " </div>,\n",
       " <div class=\"restaurant-menu-item\">\n",
       " <div class=\"restaurant-menu-price\"><span> 13,00 €</span></div>\n",
       " <div class=\"restaurant-menu-desc\">Fromages affinés de nos régions</div>\n",
       " </div>,\n",
       " <div class=\"restaurant-menu-item\">\n",
       " <div class=\"restaurant-menu-price\"><span> 13,00 €</span></div>\n",
       " <div class=\"restaurant-menu-desc\">Vacherin glacé aux fruits de saison</div>\n",
       " </div>,\n",
       " <div class=\"restaurant-menu-item\">\n",
       " <div class=\"restaurant-menu-price\"><span> 13,00 €</span></div>\n",
       " <div class=\"restaurant-menu-desc\">Millefeuille à la vanille Bourbon, caramel à la fleur de sel de Guérande</div>\n",
       " </div>,\n",
       " <div class=\"restaurant-menu-item\">\n",
       " <div class=\"restaurant-menu-price\"><span> 13,00 €</span></div>\n",
       " <div class=\"restaurant-menu-desc\">Assiette de fruits du moment</div>\n",
       " </div>,\n",
       " <div class=\"restaurant-menu-item\" data-test=\"prix-moyen\">\n",
       " <div class=\"restaurant-menu-price\" id=\"restaurant-average-price\">65,00 €</div>\n",
       " <div class=\"restaurant-menu-desc\">Prix moyen à la carte</div>\n",
       " </div>]"
      ]
     },
     "execution_count": 27,
     "metadata": {},
     "output_type": "execute_result"
    }
   ],
   "source": [
    "dishes = soup.find_all('div', class_='restaurant-menu-item')\n",
    "dishes"
   ]
  },
  {
   "cell_type": "code",
   "execution_count": 32,
   "metadata": {},
   "outputs": [
    {
     "data": {
      "text/html": [
       "<div>\n",
       "<style scoped>\n",
       "    .dataframe tbody tr th:only-of-type {\n",
       "        vertical-align: middle;\n",
       "    }\n",
       "\n",
       "    .dataframe tbody tr th {\n",
       "        vertical-align: top;\n",
       "    }\n",
       "\n",
       "    .dataframe thead th {\n",
       "        text-align: right;\n",
       "    }\n",
       "</style>\n",
       "<table border=\"1\" class=\"dataframe\">\n",
       "  <thead>\n",
       "    <tr style=\"text-align: right;\">\n",
       "      <th></th>\n",
       "      <th>index</th>\n",
       "      <th>Description</th>\n",
       "    </tr>\n",
       "  </thead>\n",
       "  <tbody>\n",
       "    <tr>\n",
       "      <th>0</th>\n",
       "      <td>65,00 €</td>\n",
       "      <td>Velouté de potiron du Domaine des Bagots en So...</td>\n",
       "    </tr>\n",
       "    <tr>\n",
       "      <th>1</th>\n",
       "      <td>65,00 €</td>\n",
       "      <td>Oeuf de poule cuit mollet roulé à la mie de pa...</td>\n",
       "    </tr>\n",
       "    <tr>\n",
       "      <th>2</th>\n",
       "      <td>65,00 €</td>\n",
       "      <td>Darphin de pomme de terre, saumon fumé \"Label ...</td>\n",
       "    </tr>\n",
       "    <tr>\n",
       "      <th>3</th>\n",
       "      <td>65,00 €</td>\n",
       "      <td>Gelée de tourteaux à l'infusion d'herbes bavar...</td>\n",
       "    </tr>\n",
       "    <tr>\n",
       "      <th>4</th>\n",
       "      <td>65,00 €</td>\n",
       "      <td>Escalope de foie gras de canard poêlé du Sud-O...</td>\n",
       "    </tr>\n",
       "    <tr>\n",
       "      <th>5</th>\n",
       "      <td>65,00 €</td>\n",
       "      <td>Ravioles de langoustines Bretonnes bisque à l'...</td>\n",
       "    </tr>\n",
       "    <tr>\n",
       "      <th>6</th>\n",
       "      <td>65,00 €</td>\n",
       "      <td>Suprême de bar en croûte d'amandes ravigote au...</td>\n",
       "    </tr>\n",
       "    <tr>\n",
       "      <th>7</th>\n",
       "      <td>65,00 €</td>\n",
       "      <td>Magret de canard du Sud-Ouest caramélisé aux d...</td>\n",
       "    </tr>\n",
       "    <tr>\n",
       "      <th>8</th>\n",
       "      <td>65,00 €</td>\n",
       "      <td>Filet de boeuf de Salers cuit au poêlon, sauce...</td>\n",
       "    </tr>\n",
       "    <tr>\n",
       "      <th>9</th>\n",
       "      <td>65,00 €</td>\n",
       "      <td>Noix de ris de veau laqué au vin rouge, pois g...</td>\n",
       "    </tr>\n",
       "    <tr>\n",
       "      <th>10</th>\n",
       "      <td>65,00 €</td>\n",
       "      <td>Croustillant au chocolat Guanaja, quenelle glacée</td>\n",
       "    </tr>\n",
       "    <tr>\n",
       "      <th>11</th>\n",
       "      <td>65,00 €</td>\n",
       "      <td>Fromages affinés de nos régions</td>\n",
       "    </tr>\n",
       "    <tr>\n",
       "      <th>12</th>\n",
       "      <td>65,00 €</td>\n",
       "      <td>Vacherin glacé aux fruits de saison</td>\n",
       "    </tr>\n",
       "    <tr>\n",
       "      <th>13</th>\n",
       "      <td>65,00 €</td>\n",
       "      <td>Millefeuille à la vanille Bourbon, caramel à l...</td>\n",
       "    </tr>\n",
       "    <tr>\n",
       "      <th>14</th>\n",
       "      <td>65,00 €</td>\n",
       "      <td>Assiette de fruits du moment</td>\n",
       "    </tr>\n",
       "    <tr>\n",
       "      <th>15</th>\n",
       "      <td>65,00 €</td>\n",
       "      <td>Prix moyen à la carte</td>\n",
       "    </tr>\n",
       "  </tbody>\n",
       "</table>\n",
       "</div>"
      ],
      "text/plain": [
       "      index                                        Description\n",
       "0   65,00 €  Velouté de potiron du Domaine des Bagots en So...\n",
       "1   65,00 €  Oeuf de poule cuit mollet roulé à la mie de pa...\n",
       "2   65,00 €  Darphin de pomme de terre, saumon fumé \"Label ...\n",
       "3   65,00 €  Gelée de tourteaux à l'infusion d'herbes bavar...\n",
       "4   65,00 €  Escalope de foie gras de canard poêlé du Sud-O...\n",
       "5   65,00 €  Ravioles de langoustines Bretonnes bisque à l'...\n",
       "6   65,00 €  Suprême de bar en croûte d'amandes ravigote au...\n",
       "7   65,00 €  Magret de canard du Sud-Ouest caramélisé aux d...\n",
       "8   65,00 €  Filet de boeuf de Salers cuit au poêlon, sauce...\n",
       "9   65,00 €  Noix de ris de veau laqué au vin rouge, pois g...\n",
       "10  65,00 €  Croustillant au chocolat Guanaja, quenelle glacée\n",
       "11  65,00 €                    Fromages affinés de nos régions\n",
       "12  65,00 €                Vacherin glacé aux fruits de saison\n",
       "13  65,00 €  Millefeuille à la vanille Bourbon, caramel à l...\n",
       "14  65,00 €                       Assiette de fruits du moment\n",
       "15  65,00 €                              Prix moyen à la carte"
      ]
     },
     "execution_count": 32,
     "metadata": {},
     "output_type": "execute_result"
    }
   ],
   "source": [
    "# Extract the dish names and prices\n",
    "data = []\n",
    "for dish in dishes:\n",
    "    price = dish.find('div', class_='restaurant-menu-price').get_text(strip=True)\n",
    "    description = dish.find('div', class_='restaurant-menu-desc').get_text(strip=True)\n",
    "    data.append([price, description])\n",
    "\n",
    "# Create a DataFrame\n",
    "df = pd.DataFrame(data, columns=['Price', 'Description'])\n",
    "df\n"
   ]
  },
  {
   "cell_type": "code",
   "execution_count": 28,
   "metadata": {},
   "outputs": [
    {
     "data": {
      "text/plain": [
       "[['16,00 €',\n",
       "  'Velouté de potiron du Domaine des Bagots en Sologne éclats de châtaignes, et dès de foie gras'],\n",
       " ['18,00 €',\n",
       "  'Oeuf de poule cuit mollet roulé à la mie de pain girolles de Corrèze en persillade légère'],\n",
       " ['19,00 €',\n",
       "  'Darphin de pomme de terre, saumon fumé \"Label Rouge\" fleurette aux perles d\\'Avruga'],\n",
       " ['25,00 €',\n",
       "  \"Gelée de tourteaux à l'infusion d'herbes bavaroise de crustacés au fenouil et caviar de harengs\"],\n",
       " ['19,00 €',\n",
       "  'Escalope de foie gras de canard poêlé du Sud-Ouest jus court aux mûres et groseilles'],\n",
       " ['39,00 €',\n",
       "  \"Ravioles de langoustines Bretonnes bisque à l'Armoricaine et estragon\"],\n",
       " ['41,00 €',\n",
       "  \"Suprême de bar en croûte d'amandes ravigote aux câpres et citron, tétragones en salade\"],\n",
       " ['37,00 €',\n",
       "  \"Magret de canard du Sud-Ouest caramélisé aux dragées coings rôtis au miel d'acacia\"],\n",
       " ['49,00 €',\n",
       "  \"Filet de boeuf de Salers cuit au poêlon, sauce Béarnaise, jeunes légumes du moment à l'huile d'olive\"],\n",
       " ['46,00 €',\n",
       "  'Noix de ris de veau laqué au vin rouge, pois gourmands et oignons nouveaux aux baies roses'],\n",
       " ['13,00 €', 'Croustillant au chocolat Guanaja, quenelle glacée'],\n",
       " ['13,00 €', 'Fromages affinés de nos régions'],\n",
       " ['13,00 €', 'Vacherin glacé aux fruits de saison'],\n",
       " ['13,00 €',\n",
       "  'Millefeuille à la vanille Bourbon, caramel à la fleur de sel de Guérande'],\n",
       " ['13,00 €', 'Assiette de fruits du moment'],\n",
       " ['65,00 €', 'Prix moyen à la carte']]"
      ]
     },
     "execution_count": 28,
     "metadata": {},
     "output_type": "execute_result"
    }
   ],
   "source": [
    "data"
   ]
  },
  {
   "cell_type": "code",
   "execution_count": null,
   "metadata": {},
   "outputs": [],
   "source": []
  },
  {
   "cell_type": "code",
   "execution_count": null,
   "metadata": {},
   "outputs": [],
   "source": []
  },
  {
   "cell_type": "code",
   "execution_count": null,
   "metadata": {},
   "outputs": [],
   "source": []
  }
 ],
 "metadata": {
  "kernelspec": {
   "display_name": "Python 3",
   "language": "python",
   "name": "python3"
  },
  "language_info": {
   "codemirror_mode": {
    "name": "ipython",
    "version": 3
   },
   "file_extension": ".py",
   "mimetype": "text/x-python",
   "name": "python",
   "nbconvert_exporter": "python",
   "pygments_lexer": "ipython3",
   "version": "3.8.3"
  }
 },
 "nbformat": 4,
 "nbformat_minor": 5
}
