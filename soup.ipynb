{
 "cells": [
  {
   "cell_type": "code",
   "execution_count": 1,
   "id": "8f28fe44-edaf-42ad-8bcf-d184eb34ce07",
   "metadata": {},
   "outputs": [],
   "source": [
    "import pandas as pd\n",
    "from bs4 import BeautifulSoup\n",
    "import requests"
   ]
  },
  {
   "cell_type": "code",
   "execution_count": 2,
   "id": "43af01a0-225e-4dd5-98e5-478560e586b2",
   "metadata": {},
   "outputs": [
    {
     "data": {
      "text/plain": [
       "'thefork.fr'"
      ]
     },
     "execution_count": 2,
     "metadata": {},
     "output_type": "execute_result"
    }
   ],
   "source": [
    "url = 'https://www.thefork.fr/restaurant/le-pave-des-minimes-r41952/menu'\n",
    "response = requests.get(url)\n",
    "soup = BeautifulSoup(response.text, 'html.parser')\n",
    "soup.title.string"
   ]
  },
  {
   "cell_type": "code",
   "execution_count": 3,
   "id": "ca9d4b4b-cb52-43be-bf3a-dc512a085fc3",
   "metadata": {},
   "outputs": [
    {
     "name": "stdout",
     "output_type": "stream",
     "text": [
      "<html>\n",
      " <head>\n",
      "  <title>\n",
      "   thefork.fr\n",
      "  </title>\n",
      "  <style>\n",
      "   #cmsg{animation: A 1.5s;}@keyframes A{0%{opacity:0;}99%{opacity:0;}100%{opacity:1;}}\n",
      "  </style>\n",
      " </head>\n",
      " <body style=\"margin:0\">\n",
      "  <p id=\"cmsg\">\n",
      "   Please enable JS and disable any ad blocker\n",
      "  </p>\n",
      "  <script data-cfasync=\"false\">\n",
      "   var dd={'rt':'c','cid':'AHrlqAAAAAMAtrNo49cxx3IAwTEw9A==','hsh':'4980A61279181687DE605B235F81B9','t':'bv','s':326,'e':'e198098f28f00f2267f3b2b4ffc3cfd7e62a2dba50f7fc921be5e47e23824d0f','host':'geo.captcha-delivery.com'}\n",
      "  </script>\n",
      "  <script data-cfasync=\"false\" src=\"https://ct.captcha-delivery.com/c.js\">\n",
      "  </script>\n",
      " </body>\n",
      "</html>\n",
      "\n"
     ]
    }
   ],
   "source": [
    "print(soup.prettify())"
   ]
  },
  {
   "cell_type": "code",
   "execution_count": 4,
   "id": "cd2f4668-595e-46ed-9f1a-7e27088feb71",
   "metadata": {},
   "outputs": [
    {
     "name": "stdout",
     "output_type": "stream",
     "text": [
      "Please enable JS and disable any ad blocker\n"
     ]
    }
   ],
   "source": [
    "print(soup.body.text)\n"
   ]
  },
  {
   "cell_type": "code",
   "execution_count": 12,
   "id": "cfbc4882-cbca-4e79-b86c-7b5645b66888",
   "metadata": {},
   "outputs": [
    {
     "data": {
      "text/plain": [
       "[<title>thefork.fr</title>]"
      ]
     },
     "execution_count": 12,
     "metadata": {},
     "output_type": "execute_result"
    }
   ],
   "source": [
    "soup.find_all('title')"
   ]
  },
  {
   "cell_type": "code",
   "execution_count": null,
   "id": "9be0b96b-b6a4-4131-9ba1-e09d6eac81f8",
   "metadata": {},
   "outputs": [],
   "source": []
  },
  {
   "cell_type": "code",
   "execution_count": null,
   "id": "2496130f-950f-4458-ae3d-b9548b37fd96",
   "metadata": {},
   "outputs": [],
   "source": []
  },
  {
   "cell_type": "code",
   "execution_count": null,
   "id": "4f2eed4a-907a-4bec-a273-5970a0718888",
   "metadata": {},
   "outputs": [],
   "source": []
  }
 ],
 "metadata": {
  "kernelspec": {
   "display_name": "Python 3 (ipykernel)",
   "language": "python",
   "name": "python3"
  },
  "language_info": {
   "codemirror_mode": {
    "name": "ipython",
    "version": 3
   },
   "file_extension": ".py",
   "mimetype": "text/x-python",
   "name": "python",
   "nbconvert_exporter": "python",
   "pygments_lexer": "ipython3",
   "version": "3.10.9"
  }
 },
 "nbformat": 4,
 "nbformat_minor": 5
}
